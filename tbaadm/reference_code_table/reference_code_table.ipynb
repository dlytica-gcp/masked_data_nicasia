{
 "cells": [
  {
   "cell_type": "code",
   "execution_count": 1,
   "id": "d9949c4b",
   "metadata": {},
   "outputs": [],
   "source": [
    "import pandas as pd\n",
    "import numpy as np"
   ]
  },
  {
   "cell_type": "code",
   "execution_count": 9,
   "id": "7d4ea166",
   "metadata": {},
   "outputs": [
    {
     "data": {
      "text/html": [
       "<div>\n",
       "<style scoped>\n",
       "    .dataframe tbody tr th:only-of-type {\n",
       "        vertical-align: middle;\n",
       "    }\n",
       "\n",
       "    .dataframe tbody tr th {\n",
       "        vertical-align: top;\n",
       "    }\n",
       "\n",
       "    .dataframe thead th {\n",
       "        text-align: right;\n",
       "    }\n",
       "</style>\n",
       "<table border=\"1\" class=\"dataframe\">\n",
       "  <thead>\n",
       "    <tr style=\"text-align: right;\">\n",
       "      <th></th>\n",
       "      <th>TS_CNT</th>\n",
       "      <th>BANK_ID</th>\n",
       "      <th>DEL_FLG</th>\n",
       "      <th>REF_CODE</th>\n",
       "      <th>REF_DESC</th>\n",
       "      <th>LCHG_TIME</th>\n",
       "      <th>RCRE_TIME</th>\n",
       "      <th>LCHG_USER_ID</th>\n",
       "      <th>RCRE_USER_ID</th>\n",
       "      <th>REF_REC_TYPE</th>\n",
       "      <th>LONG_REF_CODE</th>\n",
       "      <th>updated_at</th>\n",
       "    </tr>\n",
       "  </thead>\n",
       "  <tbody>\n",
       "    <tr>\n",
       "      <th>0</th>\n",
       "      <td>0.0</td>\n",
       "      <td>1</td>\n",
       "      <td>N</td>\n",
       "      <td>GNSSP</td>\n",
       "      <td>GYANDAN NIRMAN SEWA AND SUPPLIERS PRIVATE LIMITED</td>\n",
       "      <td>2024-08-01T16:06:17</td>\n",
       "      <td>2024-08-01T16:06:17</td>\n",
       "      <td>SB3610</td>\n",
       "      <td>SB3610</td>\n",
       "      <td>CZ</td>\n",
       "      <td>NaN</td>\n",
       "      <td>2024-08-29 05:00:48.773</td>\n",
       "    </tr>\n",
       "    <tr>\n",
       "      <th>1</th>\n",
       "      <td>0.0</td>\n",
       "      <td>1</td>\n",
       "      <td>N</td>\n",
       "      <td>HUBLR</td>\n",
       "      <td>HIMALAYA URJA BIKAS CO. LTD. RIGHT SHARE</td>\n",
       "      <td>2024-08-07T13:57:41</td>\n",
       "      <td>2024-08-07T13:57:41</td>\n",
       "      <td>RS3764</td>\n",
       "      <td>RS3764</td>\n",
       "      <td>BF</td>\n",
       "      <td>NaN</td>\n",
       "      <td>2024-08-29 05:00:48.773</td>\n",
       "    </tr>\n",
       "    <tr>\n",
       "      <th>2</th>\n",
       "      <td>0.0</td>\n",
       "      <td>1</td>\n",
       "      <td>N</td>\n",
       "      <td>VWCPL</td>\n",
       "      <td>VISWA CONSULT PVT LTD</td>\n",
       "      <td>2024-08-08T17:43:42</td>\n",
       "      <td>2024-08-08T17:43:42</td>\n",
       "      <td>RS3764</td>\n",
       "      <td>RS3764</td>\n",
       "      <td>CZ</td>\n",
       "      <td>NaN</td>\n",
       "      <td>2024-08-29 05:00:48.773</td>\n",
       "    </tr>\n",
       "    <tr>\n",
       "      <th>3</th>\n",
       "      <td>0.0</td>\n",
       "      <td>1</td>\n",
       "      <td>N</td>\n",
       "      <td>AKJCR</td>\n",
       "      <td>ANKHU KHOLA JALVIDHYUT CO LTD RIGHT SHARE</td>\n",
       "      <td>2024-08-11T10:26:12</td>\n",
       "      <td>2024-08-11T10:26:12</td>\n",
       "      <td>SB3610</td>\n",
       "      <td>SB3610</td>\n",
       "      <td>BF</td>\n",
       "      <td>NaN</td>\n",
       "      <td>2024-08-29 05:00:48.773</td>\n",
       "    </tr>\n",
       "    <tr>\n",
       "      <th>4</th>\n",
       "      <td>0.0</td>\n",
       "      <td>1</td>\n",
       "      <td>N</td>\n",
       "      <td>ICCPL</td>\n",
       "      <td>IDEAL CARGO AND COURIER PVT LTD</td>\n",
       "      <td>2024-08-14T09:57:58</td>\n",
       "      <td>2024-08-14T09:57:58</td>\n",
       "      <td>SB3610</td>\n",
       "      <td>SB3610</td>\n",
       "      <td>CZ</td>\n",
       "      <td>NaN</td>\n",
       "      <td>2024-08-29 05:00:48.773</td>\n",
       "    </tr>\n",
       "  </tbody>\n",
       "</table>\n",
       "</div>"
      ],
      "text/plain": [
       "   TS_CNT  BANK_ID DEL_FLG REF_CODE  \\\n",
       "0     0.0        1       N    GNSSP   \n",
       "1     0.0        1       N    HUBLR   \n",
       "2     0.0        1       N    VWCPL   \n",
       "3     0.0        1       N    AKJCR   \n",
       "4     0.0        1       N    ICCPL   \n",
       "\n",
       "                                            REF_DESC            LCHG_TIME  \\\n",
       "0  GYANDAN NIRMAN SEWA AND SUPPLIERS PRIVATE LIMITED  2024-08-01T16:06:17   \n",
       "1           HIMALAYA URJA BIKAS CO. LTD. RIGHT SHARE  2024-08-07T13:57:41   \n",
       "2                              VISWA CONSULT PVT LTD  2024-08-08T17:43:42   \n",
       "3          ANKHU KHOLA JALVIDHYUT CO LTD RIGHT SHARE  2024-08-11T10:26:12   \n",
       "4                    IDEAL CARGO AND COURIER PVT LTD  2024-08-14T09:57:58   \n",
       "\n",
       "             RCRE_TIME LCHG_USER_ID RCRE_USER_ID REF_REC_TYPE LONG_REF_CODE  \\\n",
       "0  2024-08-01T16:06:17       SB3610       SB3610           CZ           NaN   \n",
       "1  2024-08-07T13:57:41       RS3764       RS3764           BF           NaN   \n",
       "2  2024-08-08T17:43:42       RS3764       RS3764           CZ           NaN   \n",
       "3  2024-08-11T10:26:12       SB3610       SB3610           BF           NaN   \n",
       "4  2024-08-14T09:57:58       SB3610       SB3610           CZ           NaN   \n",
       "\n",
       "               updated_at  \n",
       "0 2024-08-29 05:00:48.773  \n",
       "1 2024-08-29 05:00:48.773  \n",
       "2 2024-08-29 05:00:48.773  \n",
       "3 2024-08-29 05:00:48.773  \n",
       "4 2024-08-29 05:00:48.773  "
      ]
     },
     "execution_count": 9,
     "metadata": {},
     "output_type": "execute_result"
    }
   ],
   "source": [
    "df = pd.read_excel('reference_code_table.xlsx')\n",
    "df.head()"
   ]
  },
  {
   "cell_type": "code",
   "execution_count": 4,
   "id": "339fa015",
   "metadata": {},
   "outputs": [
    {
     "data": {
      "text/plain": [
       "(24255, 12)"
      ]
     },
     "execution_count": 4,
     "metadata": {},
     "output_type": "execute_result"
    }
   ],
   "source": [
    "df.shape"
   ]
  },
  {
   "cell_type": "markdown",
   "id": "ef2c7b49",
   "metadata": {},
   "source": [
    "df = df.drop_duplicates(subset=['REF_CODE'])\n",
    "df.shape"
   ]
  },
  {
   "cell_type": "code",
   "execution_count": null,
   "id": "34198fd9",
   "metadata": {},
   "outputs": [
    {
     "data": {
      "text/plain": [
       "(22032, 12)"
      ]
     },
     "execution_count": 5,
     "metadata": {},
     "output_type": "execute_result"
    }
   ],
   "source": [
    "# df = df.drop_duplicates(subset=['REF_CODE'])\n",
    "# df.shape"
   ]
  },
  {
   "cell_type": "code",
   "execution_count": 8,
   "id": "539de0d7",
   "metadata": {},
   "outputs": [],
   "source": [
    "df.to_csv('reference_code_table_masked.csv', index=False) "
   ]
  },
  {
   "cell_type": "code",
   "execution_count": 10,
   "id": "6ab6dc47",
   "metadata": {},
   "outputs": [],
   "source": [
    "df.to_csv('reference_code_table_________________.csv', index=False) "
   ]
  }
 ],
 "metadata": {
  "kernelspec": {
   "display_name": "base",
   "language": "python",
   "name": "python3"
  },
  "language_info": {
   "codemirror_mode": {
    "name": "ipython",
    "version": 3
   },
   "file_extension": ".py",
   "mimetype": "text/x-python",
   "name": "python",
   "nbconvert_exporter": "python",
   "pygments_lexer": "ipython3",
   "version": "3.12.7"
  }
 },
 "nbformat": 4,
 "nbformat_minor": 5
}

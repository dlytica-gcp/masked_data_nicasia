{
 "cells": [
  {
   "cell_type": "code",
   "execution_count": 1,
   "id": "d9949c4b",
   "metadata": {},
   "outputs": [],
   "source": [
    "import pandas as pd\n",
    "import numpy as np"
   ]
  },
  {
   "cell_type": "code",
   "execution_count": 2,
   "id": "7d4ea166",
   "metadata": {},
   "outputs": [
    {
     "data": {
      "text/html": [
       "<div>\n",
       "<style scoped>\n",
       "    .dataframe tbody tr th:only-of-type {\n",
       "        vertical-align: middle;\n",
       "    }\n",
       "\n",
       "    .dataframe tbody tr th {\n",
       "        vertical-align: top;\n",
       "    }\n",
       "\n",
       "    .dataframe thead th {\n",
       "        text-align: right;\n",
       "    }\n",
       "</style>\n",
       "<table border=\"1\" class=\"dataframe\">\n",
       "  <thead>\n",
       "    <tr style=\"text-align: right;\">\n",
       "      <th></th>\n",
       "      <th>seed</th>\n",
       "      <th>ts_cnt</th>\n",
       "      <th>bank_id</th>\n",
       "      <th>del_flg</th>\n",
       "      <th>pwd_key</th>\n",
       "      <th>dc_alias</th>\n",
       "      <th>ft_in_use</th>\n",
       "      <th>iso_bacid</th>\n",
       "      <th>lchg_time</th>\n",
       "      <th>minor_age</th>\n",
       "      <th>...</th>\n",
       "      <th>futdated_out_clr_ins_excp_code</th>\n",
       "      <th>img_acc_code_for_exp_signature</th>\n",
       "      <th>implemented_tier_base_rate_flg</th>\n",
       "      <th>insuf_cum_policy_amt_excp_code</th>\n",
       "      <th>num_of_days_allwd_for_tran_rev</th>\n",
       "      <th>td_discount_int_for_flow_shift</th>\n",
       "      <th>tran_to_external_sol_acct_excp</th>\n",
       "      <th>treat_prin_int_sep_for_chrgoff</th>\n",
       "      <th>trea_ref_not_entered_excp_code</th>\n",
       "      <th>updated_at</th>\n",
       "    </tr>\n",
       "  </thead>\n",
       "  <tbody>\n",
       "    <tr>\n",
       "      <th>0</th>\n",
       "      <td>0</td>\n",
       "      <td>47973</td>\n",
       "      <td>1</td>\n",
       "      <td>N</td>\n",
       "      <td>NaN</td>\n",
       "      <td>DC</td>\n",
       "      <td>N</td>\n",
       "      <td>IBAC</td>\n",
       "      <td>2024-08-23T21:11:48</td>\n",
       "      <td>18</td>\n",
       "      <td>...</td>\n",
       "      <td>NaN</td>\n",
       "      <td>NaN</td>\n",
       "      <td>N</td>\n",
       "      <td>SU2</td>\n",
       "      <td>0</td>\n",
       "      <td>Y</td>\n",
       "      <td>TE1</td>\n",
       "      <td>Y</td>\n",
       "      <td>TR3</td>\n",
       "      <td>2024-08-29 05:31:09.839</td>\n",
       "    </tr>\n",
       "  </tbody>\n",
       "</table>\n",
       "<p>1 rows × 368 columns</p>\n",
       "</div>"
      ],
      "text/plain": [
       "   seed  ts_cnt  bank_id del_flg  pwd_key dc_alias ft_in_use iso_bacid  \\\n",
       "0     0   47973        1       N      NaN       DC         N      IBAC   \n",
       "\n",
       "             lchg_time  minor_age  ... futdated_out_clr_ins_excp_code  \\\n",
       "0  2024-08-23T21:11:48         18  ...                            NaN   \n",
       "\n",
       "  img_acc_code_for_exp_signature  implemented_tier_base_rate_flg  \\\n",
       "0                            NaN                               N   \n",
       "\n",
       "   insuf_cum_policy_amt_excp_code num_of_days_allwd_for_tran_rev  \\\n",
       "0                             SU2                              0   \n",
       "\n",
       "   td_discount_int_for_flow_shift  tran_to_external_sol_acct_excp  \\\n",
       "0                               Y                             TE1   \n",
       "\n",
       "  treat_prin_int_sep_for_chrgoff trea_ref_not_entered_excp_code  \\\n",
       "0                              Y                            TR3   \n",
       "\n",
       "               updated_at  \n",
       "0 2024-08-29 05:31:09.839  \n",
       "\n",
       "[1 rows x 368 columns]"
      ]
     },
     "execution_count": 2,
     "metadata": {},
     "output_type": "execute_result"
    }
   ],
   "source": [
    "df = pd.read_excel('sol_group_control_table.xlsx')\n",
    "df.head()"
   ]
  },
  {
   "cell_type": "code",
   "execution_count": 3,
   "id": "339fa015",
   "metadata": {},
   "outputs": [
    {
     "name": "stdout",
     "output_type": "stream",
     "text": [
      "1\n"
     ]
    }
   ],
   "source": [
    "print(len(df))"
   ]
  },
  {
   "cell_type": "code",
   "execution_count": 3,
   "id": "539de0d7",
   "metadata": {},
   "outputs": [],
   "source": [
    "df.to_csv('sol_group_control_table_masked.csv', index=False) "
   ]
  },
  {
   "cell_type": "code",
   "execution_count": null,
   "id": "6ab6dc47",
   "metadata": {},
   "outputs": [],
   "source": []
  }
 ],
 "metadata": {
  "kernelspec": {
   "display_name": "base",
   "language": "python",
   "name": "python3"
  },
  "language_info": {
   "codemirror_mode": {
    "name": "ipython",
    "version": 3
   },
   "file_extension": ".py",
   "mimetype": "text/x-python",
   "name": "python",
   "nbconvert_exporter": "python",
   "pygments_lexer": "ipython3",
   "version": "3.12.7"
  }
 },
 "nbformat": 4,
 "nbformat_minor": 5
}

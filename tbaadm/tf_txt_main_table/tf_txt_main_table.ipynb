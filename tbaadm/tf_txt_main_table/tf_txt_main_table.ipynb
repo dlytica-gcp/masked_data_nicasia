{
 "cells": [
  {
   "cell_type": "code",
   "execution_count": 2,
   "id": "d9949c4b",
   "metadata": {},
   "outputs": [],
   "source": [
    "import pandas as pd\n",
    "import numpy as np"
   ]
  },
  {
   "cell_type": "code",
   "execution_count": 3,
   "id": "7d4ea166",
   "metadata": {},
   "outputs": [
    {
     "data": {
      "text/html": [
       "<div>\n",
       "<style scoped>\n",
       "    .dataframe tbody tr th:only-of-type {\n",
       "        vertical-align: middle;\n",
       "    }\n",
       "\n",
       "    .dataframe tbody tr th {\n",
       "        vertical-align: top;\n",
       "    }\n",
       "\n",
       "    .dataframe thead th {\n",
       "        text-align: right;\n",
       "    }\n",
       "</style>\n",
       "<table border=\"1\" class=\"dataframe\">\n",
       "  <thead>\n",
       "    <tr style=\"text-align: right;\">\n",
       "      <th></th>\n",
       "      <th>text</th>\n",
       "      <th>ts_cnt</th>\n",
       "      <th>bank_id</th>\n",
       "      <th>del_flg</th>\n",
       "      <th>text_id</th>\n",
       "      <th>func_code</th>\n",
       "      <th>lchg_time</th>\n",
       "      <th>module_id</th>\n",
       "      <th>rcre_time</th>\n",
       "      <th>text_type</th>\n",
       "      <th>lchg_user_id</th>\n",
       "      <th>rcre_user_id</th>\n",
       "      <th>entity_cre_flg</th>\n",
       "      <th>updated_at</th>\n",
       "    </tr>\n",
       "  </thead>\n",
       "  <tbody>\n",
       "    <tr>\n",
       "      <th>0</th>\n",
       "      <td>SILENT DG GENSET</td>\n",
       "      <td>0</td>\n",
       "      <td>1</td>\n",
       "      <td>N</td>\n",
       "      <td>DC09468</td>\n",
       "      <td>NaN</td>\n",
       "      <td>2010-10-31T17:00:41</td>\n",
       "      <td>DOCCR</td>\n",
       "      <td>2009-01-25T18:39:39</td>\n",
       "      <td>G</td>\n",
       "      <td>SUNNYM</td>\n",
       "      <td>SUPRIYAT</td>\n",
       "      <td>Y</td>\n",
       "      <td>2024-08-07 06:57:06.300</td>\n",
       "    </tr>\n",
       "    <tr>\n",
       "      <th>1</th>\n",
       "      <td>NaN</td>\n",
       "      <td>0</td>\n",
       "      <td>1</td>\n",
       "      <td>N</td>\n",
       "      <td>DC09468</td>\n",
       "      <td>NaN</td>\n",
       "      <td>2010-10-31T17:00:41</td>\n",
       "      <td>DOCCR</td>\n",
       "      <td>2009-01-25T18:39:39</td>\n",
       "      <td>E</td>\n",
       "      <td>SUNNYM</td>\n",
       "      <td>SUPRIYAT</td>\n",
       "      <td>Y</td>\n",
       "      <td>2024-08-07 06:57:06.300</td>\n",
       "    </tr>\n",
       "    <tr>\n",
       "      <th>2</th>\n",
       "      <td>SILENT DG SET</td>\n",
       "      <td>0</td>\n",
       "      <td>1</td>\n",
       "      <td>N</td>\n",
       "      <td>DC09469</td>\n",
       "      <td>NaN</td>\n",
       "      <td>2010-10-31T17:00:45</td>\n",
       "      <td>DOCCR</td>\n",
       "      <td>2009-01-25T18:45:14</td>\n",
       "      <td>G</td>\n",
       "      <td>SUNNYM</td>\n",
       "      <td>SUPRIYAT</td>\n",
       "      <td>Y</td>\n",
       "      <td>2024-08-07 06:57:06.300</td>\n",
       "    </tr>\n",
       "    <tr>\n",
       "      <th>3</th>\n",
       "      <td>NaN</td>\n",
       "      <td>0</td>\n",
       "      <td>1</td>\n",
       "      <td>N</td>\n",
       "      <td>DC09469</td>\n",
       "      <td>NaN</td>\n",
       "      <td>2010-10-31T17:00:45</td>\n",
       "      <td>DOCCR</td>\n",
       "      <td>2009-01-25T18:45:14</td>\n",
       "      <td>E</td>\n",
       "      <td>SUNNYM</td>\n",
       "      <td>SUPRIYAT</td>\n",
       "      <td>Y</td>\n",
       "      <td>2024-08-07 06:57:06.300</td>\n",
       "    </tr>\n",
       "    <tr>\n",
       "      <th>4</th>\n",
       "      <td>COMPLETE WEIGHING MACHINETOTAL QTY:1 SET, H.S....</td>\n",
       "      <td>0</td>\n",
       "      <td>1</td>\n",
       "      <td>N</td>\n",
       "      <td>DC101348</td>\n",
       "      <td>NaN</td>\n",
       "      <td>2010-11-19T13:46:06</td>\n",
       "      <td>DOCCR</td>\n",
       "      <td>2010-06-23T12:17:09</td>\n",
       "      <td>G</td>\n",
       "      <td>SUNNYM</td>\n",
       "      <td>ANUSHAK</td>\n",
       "      <td>Y</td>\n",
       "      <td>2024-08-07 06:57:06.300</td>\n",
       "    </tr>\n",
       "  </tbody>\n",
       "</table>\n",
       "</div>"
      ],
      "text/plain": [
       "                                                text  ts_cnt  bank_id del_flg  \\\n",
       "0                                   SILENT DG GENSET       0        1       N   \n",
       "1                                                NaN       0        1       N   \n",
       "2                                      SILENT DG SET       0        1       N   \n",
       "3                                                NaN       0        1       N   \n",
       "4  COMPLETE WEIGHING MACHINETOTAL QTY:1 SET, H.S....       0        1       N   \n",
       "\n",
       "    text_id func_code            lchg_time module_id            rcre_time  \\\n",
       "0   DC09468       NaN  2010-10-31T17:00:41     DOCCR  2009-01-25T18:39:39   \n",
       "1   DC09468       NaN  2010-10-31T17:00:41     DOCCR  2009-01-25T18:39:39   \n",
       "2   DC09469       NaN  2010-10-31T17:00:45     DOCCR  2009-01-25T18:45:14   \n",
       "3   DC09469       NaN  2010-10-31T17:00:45     DOCCR  2009-01-25T18:45:14   \n",
       "4  DC101348       NaN  2010-11-19T13:46:06     DOCCR  2010-06-23T12:17:09   \n",
       "\n",
       "  text_type lchg_user_id rcre_user_id entity_cre_flg              updated_at  \n",
       "0         G       SUNNYM     SUPRIYAT              Y 2024-08-07 06:57:06.300  \n",
       "1         E       SUNNYM     SUPRIYAT              Y 2024-08-07 06:57:06.300  \n",
       "2         G       SUNNYM     SUPRIYAT              Y 2024-08-07 06:57:06.300  \n",
       "3         E       SUNNYM     SUPRIYAT              Y 2024-08-07 06:57:06.300  \n",
       "4         G       SUNNYM      ANUSHAK              Y 2024-08-07 06:57:06.300  "
      ]
     },
     "execution_count": 3,
     "metadata": {},
     "output_type": "execute_result"
    }
   ],
   "source": [
    "df = pd.read_excel('tf_txt_main_table.xlsx')\n",
    "df.head()"
   ]
  },
  {
   "cell_type": "code",
   "execution_count": 4,
   "id": "339fa015",
   "metadata": {},
   "outputs": [
    {
     "name": "stdout",
     "output_type": "stream",
     "text": [
      "416\n"
     ]
    }
   ],
   "source": [
    "print(len(df))"
   ]
  },
  {
   "cell_type": "code",
   "execution_count": 5,
   "id": "539de0d7",
   "metadata": {},
   "outputs": [],
   "source": [
    "df.to_csv('tf_txt_main_table_masked.csv', index=False) "
   ]
  },
  {
   "cell_type": "code",
   "execution_count": null,
   "id": "6ab6dc47",
   "metadata": {},
   "outputs": [],
   "source": []
  }
 ],
 "metadata": {
  "kernelspec": {
   "display_name": "base",
   "language": "python",
   "name": "python3"
  },
  "language_info": {
   "codemirror_mode": {
    "name": "ipython",
    "version": 3
   },
   "file_extension": ".py",
   "mimetype": "text/x-python",
   "name": "python",
   "nbconvert_exporter": "python",
   "pygments_lexer": "ipython3",
   "version": "3.12.7"
  }
 },
 "nbformat": 4,
 "nbformat_minor": 5
}

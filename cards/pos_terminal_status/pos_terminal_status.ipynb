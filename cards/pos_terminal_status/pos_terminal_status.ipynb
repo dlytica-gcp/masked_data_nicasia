{
 "cells": [
  {
   "cell_type": "code",
   "execution_count": 1,
   "id": "3df0a3de",
   "metadata": {},
   "outputs": [],
   "source": [
    "import pandas as pd\n",
    "import numpy as np"
   ]
  },
  {
   "cell_type": "code",
   "execution_count": 3,
   "id": "96cdd616",
   "metadata": {},
   "outputs": [
    {
     "data": {
      "text/html": [
       "<div>\n",
       "<style scoped>\n",
       "    .dataframe tbody tr th:only-of-type {\n",
       "        vertical-align: middle;\n",
       "    }\n",
       "\n",
       "    .dataframe tbody tr th {\n",
       "        vertical-align: top;\n",
       "    }\n",
       "\n",
       "    .dataframe thead th {\n",
       "        text-align: right;\n",
       "    }\n",
       "</style>\n",
       "<table border=\"1\" class=\"dataframe\">\n",
       "  <thead>\n",
       "    <tr style=\"text-align: right;\">\n",
       "      <th></th>\n",
       "      <th>_airbyte_ab_id</th>\n",
       "      <th>_airbyte_emitted_at</th>\n",
       "      <th>pst_code</th>\n",
       "      <th>pst_labe</th>\n",
       "      <th>_airbyte_additional_properties</th>\n",
       "      <th>source_file_path</th>\n",
       "      <th>updated_at</th>\n",
       "    </tr>\n",
       "  </thead>\n",
       "  <tbody>\n",
       "    <tr>\n",
       "      <th>0</th>\n",
       "      <td>431a9c04-da43-4101-8bbb-2cded7053cfb</td>\n",
       "      <td>2024-08-06 07:23:24.261</td>\n",
       "      <td>0</td>\n",
       "      <td>Inactive</td>\n",
       "      <td>NaN</td>\n",
       "      <td>s3a://ai360nica/data/bronze/oracle/eftswitch/M...</td>\n",
       "      <td>2024-08-07 07:05:12.107</td>\n",
       "    </tr>\n",
       "    <tr>\n",
       "      <th>1</th>\n",
       "      <td>0e96ddbe-c889-48cb-bd2b-497b27b4d8d2</td>\n",
       "      <td>2024-08-06 07:23:24.261</td>\n",
       "      <td>1</td>\n",
       "      <td>Active</td>\n",
       "      <td>NaN</td>\n",
       "      <td>s3a://ai360nica/data/bronze/oracle/eftswitch/M...</td>\n",
       "      <td>2024-08-07 07:05:12.107</td>\n",
       "    </tr>\n",
       "  </tbody>\n",
       "</table>\n",
       "</div>"
      ],
      "text/plain": [
       "                         _airbyte_ab_id     _airbyte_emitted_at  pst_code  \\\n",
       "0  431a9c04-da43-4101-8bbb-2cded7053cfb 2024-08-06 07:23:24.261         0   \n",
       "1  0e96ddbe-c889-48cb-bd2b-497b27b4d8d2 2024-08-06 07:23:24.261         1   \n",
       "\n",
       "   pst_labe  _airbyte_additional_properties  \\\n",
       "0  Inactive                             NaN   \n",
       "1    Active                             NaN   \n",
       "\n",
       "                                    source_file_path              updated_at  \n",
       "0  s3a://ai360nica/data/bronze/oracle/eftswitch/M... 2024-08-07 07:05:12.107  \n",
       "1  s3a://ai360nica/data/bronze/oracle/eftswitch/M... 2024-08-07 07:05:12.107  "
      ]
     },
     "execution_count": 3,
     "metadata": {},
     "output_type": "execute_result"
    }
   ],
   "source": [
    "df = pd.read_excel('pos_terminal_status.xlsx')\n",
    "df.head()"
   ]
  },
  {
   "cell_type": "code",
   "execution_count": 4,
   "id": "b4799a09",
   "metadata": {},
   "outputs": [
    {
     "data": {
      "text/html": [
       "<div>\n",
       "<style scoped>\n",
       "    .dataframe tbody tr th:only-of-type {\n",
       "        vertical-align: middle;\n",
       "    }\n",
       "\n",
       "    .dataframe tbody tr th {\n",
       "        vertical-align: top;\n",
       "    }\n",
       "\n",
       "    .dataframe thead th {\n",
       "        text-align: right;\n",
       "    }\n",
       "</style>\n",
       "<table border=\"1\" class=\"dataframe\">\n",
       "  <thead>\n",
       "    <tr style=\"text-align: right;\">\n",
       "      <th></th>\n",
       "      <th>pst_code</th>\n",
       "      <th>pst_labe</th>\n",
       "      <th>updated_at</th>\n",
       "    </tr>\n",
       "  </thead>\n",
       "  <tbody>\n",
       "    <tr>\n",
       "      <th>0</th>\n",
       "      <td>0</td>\n",
       "      <td>Inactive</td>\n",
       "      <td>2024-08-07 07:05:12.107</td>\n",
       "    </tr>\n",
       "    <tr>\n",
       "      <th>1</th>\n",
       "      <td>1</td>\n",
       "      <td>Active</td>\n",
       "      <td>2024-08-07 07:05:12.107</td>\n",
       "    </tr>\n",
       "  </tbody>\n",
       "</table>\n",
       "</div>"
      ],
      "text/plain": [
       "   pst_code  pst_labe              updated_at\n",
       "0         0  Inactive 2024-08-07 07:05:12.107\n",
       "1         1    Active 2024-08-07 07:05:12.107"
      ]
     },
     "execution_count": 4,
     "metadata": {},
     "output_type": "execute_result"
    }
   ],
   "source": [
    "df = df.drop(['_airbyte_ab_id', '_airbyte_emitted_at',\"source_file_path\",\"_airbyte_additional_properties\"], axis=1)\n",
    "df.head()"
   ]
  },
  {
   "cell_type": "code",
   "execution_count": 5,
   "id": "3e88b1f1",
   "metadata": {},
   "outputs": [],
   "source": [
    "df.to_csv('pos_terminal_status_masked.csv', index=False) "
   ]
  }
 ],
 "metadata": {
  "kernelspec": {
   "display_name": "base",
   "language": "python",
   "name": "python3"
  },
  "language_info": {
   "codemirror_mode": {
    "name": "ipython",
    "version": 3
   },
   "file_extension": ".py",
   "mimetype": "text/x-python",
   "name": "python",
   "nbconvert_exporter": "python",
   "pygments_lexer": "ipython3",
   "version": "3.12.7"
  }
 },
 "nbformat": 4,
 "nbformat_minor": 5
}

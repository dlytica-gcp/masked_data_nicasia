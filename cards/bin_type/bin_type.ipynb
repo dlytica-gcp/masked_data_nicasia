{
 "cells": [
  {
   "cell_type": "code",
   "execution_count": 3,
   "id": "a2872f3f",
   "metadata": {},
   "outputs": [],
   "source": [
    "import pandas as pd\n",
    "import numpy as np"
   ]
  },
  {
   "cell_type": "code",
   "execution_count": 4,
   "id": "2bb7bb7c",
   "metadata": {},
   "outputs": [
    {
     "data": {
      "text/html": [
       "<div>\n",
       "<style scoped>\n",
       "    .dataframe tbody tr th:only-of-type {\n",
       "        vertical-align: middle;\n",
       "    }\n",
       "\n",
       "    .dataframe tbody tr th {\n",
       "        vertical-align: top;\n",
       "    }\n",
       "\n",
       "    .dataframe thead th {\n",
       "        text-align: right;\n",
       "    }\n",
       "</style>\n",
       "<table border=\"1\" class=\"dataframe\">\n",
       "  <thead>\n",
       "    <tr style=\"text-align: right;\">\n",
       "      <th></th>\n",
       "      <th>_airbyte_ab_id</th>\n",
       "      <th>_airbyte_emitted_at</th>\n",
       "      <th>bty_code</th>\n",
       "      <th>bty_iden</th>\n",
       "      <th>bty_labe</th>\n",
       "      <th>_airbyte_additional_properties</th>\n",
       "      <th>source_file_path</th>\n",
       "      <th>updated_at</th>\n",
       "    </tr>\n",
       "  </thead>\n",
       "  <tbody>\n",
       "    <tr>\n",
       "      <th>0</th>\n",
       "      <td>e15df2c2-1b47-4345-887c-40e02b52b201</td>\n",
       "      <td>2024-08-06 07:23:24.261</td>\n",
       "      <td>1</td>\n",
       "      <td>Nat</td>\n",
       "      <td>National</td>\n",
       "      <td>NaN</td>\n",
       "      <td>s3a://ai360nica/data/bronze/oracle/eftswitch/M...</td>\n",
       "      <td>2024-08-07 07:03:05.998</td>\n",
       "    </tr>\n",
       "    <tr>\n",
       "      <th>1</th>\n",
       "      <td>8ed9c208-27b0-4127-9e57-5b28ffff841c</td>\n",
       "      <td>2024-08-06 07:23:24.261</td>\n",
       "      <td>2</td>\n",
       "      <td>Int</td>\n",
       "      <td>International</td>\n",
       "      <td>NaN</td>\n",
       "      <td>s3a://ai360nica/data/bronze/oracle/eftswitch/M...</td>\n",
       "      <td>2024-08-07 07:03:05.998</td>\n",
       "    </tr>\n",
       "    <tr>\n",
       "      <th>2</th>\n",
       "      <td>071ac219-4f4c-4bf4-805b-af36af18707d</td>\n",
       "      <td>2024-08-06 07:23:24.261</td>\n",
       "      <td>3</td>\n",
       "      <td>On Us</td>\n",
       "      <td>On Us</td>\n",
       "      <td>NaN</td>\n",
       "      <td>s3a://ai360nica/data/bronze/oracle/eftswitch/M...</td>\n",
       "      <td>2024-08-07 07:03:05.998</td>\n",
       "    </tr>\n",
       "    <tr>\n",
       "      <th>3</th>\n",
       "      <td>65f3601e-7c83-402d-bf86-f74ed903dbe4</td>\n",
       "      <td>2024-08-06 07:23:24.261</td>\n",
       "      <td>4</td>\n",
       "      <td>Network</td>\n",
       "      <td>Network</td>\n",
       "      <td>NaN</td>\n",
       "      <td>s3a://ai360nica/data/bronze/oracle/eftswitch/M...</td>\n",
       "      <td>2024-08-07 07:03:05.998</td>\n",
       "    </tr>\n",
       "  </tbody>\n",
       "</table>\n",
       "</div>"
      ],
      "text/plain": [
       "                         _airbyte_ab_id     _airbyte_emitted_at  bty_code  \\\n",
       "0  e15df2c2-1b47-4345-887c-40e02b52b201 2024-08-06 07:23:24.261         1   \n",
       "1  8ed9c208-27b0-4127-9e57-5b28ffff841c 2024-08-06 07:23:24.261         2   \n",
       "2  071ac219-4f4c-4bf4-805b-af36af18707d 2024-08-06 07:23:24.261         3   \n",
       "3  65f3601e-7c83-402d-bf86-f74ed903dbe4 2024-08-06 07:23:24.261         4   \n",
       "\n",
       "  bty_iden       bty_labe  _airbyte_additional_properties  \\\n",
       "0      Nat       National                             NaN   \n",
       "1      Int  International                             NaN   \n",
       "2    On Us          On Us                             NaN   \n",
       "3  Network        Network                             NaN   \n",
       "\n",
       "                                    source_file_path              updated_at  \n",
       "0  s3a://ai360nica/data/bronze/oracle/eftswitch/M... 2024-08-07 07:03:05.998  \n",
       "1  s3a://ai360nica/data/bronze/oracle/eftswitch/M... 2024-08-07 07:03:05.998  \n",
       "2  s3a://ai360nica/data/bronze/oracle/eftswitch/M... 2024-08-07 07:03:05.998  \n",
       "3  s3a://ai360nica/data/bronze/oracle/eftswitch/M... 2024-08-07 07:03:05.998  "
      ]
     },
     "execution_count": 4,
     "metadata": {},
     "output_type": "execute_result"
    }
   ],
   "source": [
    "df = pd.read_excel('bin_type.xlsx')\n",
    "df.head()"
   ]
  },
  {
   "cell_type": "code",
   "execution_count": 5,
   "id": "70be21fb",
   "metadata": {},
   "outputs": [
    {
     "data": {
      "text/html": [
       "<div>\n",
       "<style scoped>\n",
       "    .dataframe tbody tr th:only-of-type {\n",
       "        vertical-align: middle;\n",
       "    }\n",
       "\n",
       "    .dataframe tbody tr th {\n",
       "        vertical-align: top;\n",
       "    }\n",
       "\n",
       "    .dataframe thead th {\n",
       "        text-align: right;\n",
       "    }\n",
       "</style>\n",
       "<table border=\"1\" class=\"dataframe\">\n",
       "  <thead>\n",
       "    <tr style=\"text-align: right;\">\n",
       "      <th></th>\n",
       "      <th>bty_code</th>\n",
       "      <th>bty_iden</th>\n",
       "      <th>bty_labe</th>\n",
       "      <th>updated_at</th>\n",
       "    </tr>\n",
       "  </thead>\n",
       "  <tbody>\n",
       "    <tr>\n",
       "      <th>0</th>\n",
       "      <td>1</td>\n",
       "      <td>Nat</td>\n",
       "      <td>National</td>\n",
       "      <td>2024-08-07 07:03:05.998</td>\n",
       "    </tr>\n",
       "    <tr>\n",
       "      <th>1</th>\n",
       "      <td>2</td>\n",
       "      <td>Int</td>\n",
       "      <td>International</td>\n",
       "      <td>2024-08-07 07:03:05.998</td>\n",
       "    </tr>\n",
       "    <tr>\n",
       "      <th>2</th>\n",
       "      <td>3</td>\n",
       "      <td>On Us</td>\n",
       "      <td>On Us</td>\n",
       "      <td>2024-08-07 07:03:05.998</td>\n",
       "    </tr>\n",
       "    <tr>\n",
       "      <th>3</th>\n",
       "      <td>4</td>\n",
       "      <td>Network</td>\n",
       "      <td>Network</td>\n",
       "      <td>2024-08-07 07:03:05.998</td>\n",
       "    </tr>\n",
       "  </tbody>\n",
       "</table>\n",
       "</div>"
      ],
      "text/plain": [
       "   bty_code bty_iden       bty_labe              updated_at\n",
       "0         1      Nat       National 2024-08-07 07:03:05.998\n",
       "1         2      Int  International 2024-08-07 07:03:05.998\n",
       "2         3    On Us          On Us 2024-08-07 07:03:05.998\n",
       "3         4  Network        Network 2024-08-07 07:03:05.998"
      ]
     },
     "execution_count": 5,
     "metadata": {},
     "output_type": "execute_result"
    }
   ],
   "source": [
    "df = df.drop(['_airbyte_ab_id', '_airbyte_emitted_at',\"source_file_path\",\"_airbyte_additional_properties\"], axis=1)\n",
    "df.head()"
   ]
  },
  {
   "cell_type": "code",
   "execution_count": 6,
   "id": "a488e5a4",
   "metadata": {},
   "outputs": [],
   "source": [
    "df.to_csv('bin_type_masked.csv', index=False) \n"
   ]
  }
 ],
 "metadata": {
  "kernelspec": {
   "display_name": "base",
   "language": "python",
   "name": "python3"
  },
  "language_info": {
   "codemirror_mode": {
    "name": "ipython",
    "version": 3
   },
   "file_extension": ".py",
   "mimetype": "text/x-python",
   "name": "python",
   "nbconvert_exporter": "python",
   "pygments_lexer": "ipython3",
   "version": "3.12.7"
  }
 },
 "nbformat": 4,
 "nbformat_minor": 5
}

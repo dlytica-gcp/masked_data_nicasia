{
 "cells": [
  {
   "cell_type": "code",
   "execution_count": 3,
   "id": "8a4a78d0",
   "metadata": {},
   "outputs": [],
   "source": [
    "import pandas as pd\n",
    "import numpy as np"
   ]
  },
  {
   "cell_type": "code",
   "execution_count": 4,
   "id": "302c9214",
   "metadata": {},
   "outputs": [
    {
     "data": {
      "text/html": [
       "<div>\n",
       "<style scoped>\n",
       "    .dataframe tbody tr th:only-of-type {\n",
       "        vertical-align: middle;\n",
       "    }\n",
       "\n",
       "    .dataframe tbody tr th {\n",
       "        vertical-align: top;\n",
       "    }\n",
       "\n",
       "    .dataframe thead th {\n",
       "        text-align: right;\n",
       "    }\n",
       "</style>\n",
       "<table border=\"1\" class=\"dataframe\">\n",
       "  <thead>\n",
       "    <tr style=\"text-align: right;\">\n",
       "      <th></th>\n",
       "      <th>_airbyte_ab_id</th>\n",
       "      <th>_airbyte_emitted_at</th>\n",
       "      <th>mst_code</th>\n",
       "      <th>mst_labe</th>\n",
       "      <th>_airbyte_additional_properties</th>\n",
       "      <th>source_file_path</th>\n",
       "      <th>updated_at</th>\n",
       "    </tr>\n",
       "  </thead>\n",
       "  <tbody>\n",
       "    <tr>\n",
       "      <th>0</th>\n",
       "      <td>db8e07eb-2635-4fa8-8ee2-bc569f5d499f</td>\n",
       "      <td>2024-08-06 07:23:24.261</td>\n",
       "      <td>1</td>\n",
       "      <td>Active</td>\n",
       "      <td>NaN</td>\n",
       "      <td>s3a://ai360nica/data/bronze/oracle/eftswitch/M...</td>\n",
       "      <td>2024-08-07 07:05:08.806</td>\n",
       "    </tr>\n",
       "    <tr>\n",
       "      <th>1</th>\n",
       "      <td>c5c5ca4f-a6e4-48c0-8778-293a709898e0</td>\n",
       "      <td>2024-08-06 07:23:24.261</td>\n",
       "      <td>2</td>\n",
       "      <td>Blocked</td>\n",
       "      <td>NaN</td>\n",
       "      <td>s3a://ai360nica/data/bronze/oracle/eftswitch/M...</td>\n",
       "      <td>2024-08-07 07:05:08.806</td>\n",
       "    </tr>\n",
       "    <tr>\n",
       "      <th>2</th>\n",
       "      <td>478faea1-1fdd-4270-a9e6-2900c0efa8a0</td>\n",
       "      <td>2024-08-06 07:23:24.261</td>\n",
       "      <td>4</td>\n",
       "      <td>Cancelled</td>\n",
       "      <td>NaN</td>\n",
       "      <td>s3a://ai360nica/data/bronze/oracle/eftswitch/M...</td>\n",
       "      <td>2024-08-07 07:05:08.806</td>\n",
       "    </tr>\n",
       "    <tr>\n",
       "      <th>3</th>\n",
       "      <td>e3d82403-cf33-44bf-b12d-caa7ff5b4ac8</td>\n",
       "      <td>2024-08-06 07:23:24.261</td>\n",
       "      <td>5</td>\n",
       "      <td>Deactivated</td>\n",
       "      <td>NaN</td>\n",
       "      <td>s3a://ai360nica/data/bronze/oracle/eftswitch/M...</td>\n",
       "      <td>2024-08-07 07:05:08.806</td>\n",
       "    </tr>\n",
       "  </tbody>\n",
       "</table>\n",
       "</div>"
      ],
      "text/plain": [
       "                         _airbyte_ab_id     _airbyte_emitted_at  mst_code  \\\n",
       "0  db8e07eb-2635-4fa8-8ee2-bc569f5d499f 2024-08-06 07:23:24.261         1   \n",
       "1  c5c5ca4f-a6e4-48c0-8778-293a709898e0 2024-08-06 07:23:24.261         2   \n",
       "2  478faea1-1fdd-4270-a9e6-2900c0efa8a0 2024-08-06 07:23:24.261         4   \n",
       "3  e3d82403-cf33-44bf-b12d-caa7ff5b4ac8 2024-08-06 07:23:24.261         5   \n",
       "\n",
       "      mst_labe  _airbyte_additional_properties  \\\n",
       "0       Active                             NaN   \n",
       "1      Blocked                             NaN   \n",
       "2    Cancelled                             NaN   \n",
       "3  Deactivated                             NaN   \n",
       "\n",
       "                                    source_file_path              updated_at  \n",
       "0  s3a://ai360nica/data/bronze/oracle/eftswitch/M... 2024-08-07 07:05:08.806  \n",
       "1  s3a://ai360nica/data/bronze/oracle/eftswitch/M... 2024-08-07 07:05:08.806  \n",
       "2  s3a://ai360nica/data/bronze/oracle/eftswitch/M... 2024-08-07 07:05:08.806  \n",
       "3  s3a://ai360nica/data/bronze/oracle/eftswitch/M... 2024-08-07 07:05:08.806  "
      ]
     },
     "execution_count": 4,
     "metadata": {},
     "output_type": "execute_result"
    }
   ],
   "source": [
    "df = pd.read_excel('merchant_status.xlsx') \n",
    "df.head()"
   ]
  },
  {
   "cell_type": "code",
   "execution_count": 5,
   "id": "0a6bdfc8",
   "metadata": {},
   "outputs": [
    {
     "data": {
      "text/html": [
       "<div>\n",
       "<style scoped>\n",
       "    .dataframe tbody tr th:only-of-type {\n",
       "        vertical-align: middle;\n",
       "    }\n",
       "\n",
       "    .dataframe tbody tr th {\n",
       "        vertical-align: top;\n",
       "    }\n",
       "\n",
       "    .dataframe thead th {\n",
       "        text-align: right;\n",
       "    }\n",
       "</style>\n",
       "<table border=\"1\" class=\"dataframe\">\n",
       "  <thead>\n",
       "    <tr style=\"text-align: right;\">\n",
       "      <th></th>\n",
       "      <th>mst_code</th>\n",
       "      <th>mst_labe</th>\n",
       "      <th>updated_at</th>\n",
       "    </tr>\n",
       "  </thead>\n",
       "  <tbody>\n",
       "    <tr>\n",
       "      <th>0</th>\n",
       "      <td>1</td>\n",
       "      <td>Active</td>\n",
       "      <td>2024-08-07 07:05:08.806</td>\n",
       "    </tr>\n",
       "    <tr>\n",
       "      <th>1</th>\n",
       "      <td>2</td>\n",
       "      <td>Blocked</td>\n",
       "      <td>2024-08-07 07:05:08.806</td>\n",
       "    </tr>\n",
       "    <tr>\n",
       "      <th>2</th>\n",
       "      <td>4</td>\n",
       "      <td>Cancelled</td>\n",
       "      <td>2024-08-07 07:05:08.806</td>\n",
       "    </tr>\n",
       "    <tr>\n",
       "      <th>3</th>\n",
       "      <td>5</td>\n",
       "      <td>Deactivated</td>\n",
       "      <td>2024-08-07 07:05:08.806</td>\n",
       "    </tr>\n",
       "  </tbody>\n",
       "</table>\n",
       "</div>"
      ],
      "text/plain": [
       "   mst_code     mst_labe              updated_at\n",
       "0         1       Active 2024-08-07 07:05:08.806\n",
       "1         2      Blocked 2024-08-07 07:05:08.806\n",
       "2         4    Cancelled 2024-08-07 07:05:08.806\n",
       "3         5  Deactivated 2024-08-07 07:05:08.806"
      ]
     },
     "execution_count": 5,
     "metadata": {},
     "output_type": "execute_result"
    }
   ],
   "source": [
    "df = df.drop(['_airbyte_ab_id', '_airbyte_emitted_at',\"source_file_path\",\"_airbyte_additional_properties\"], axis=1)\n",
    "df.head()"
   ]
  },
  {
   "cell_type": "code",
   "execution_count": 6,
   "id": "79c4ea88",
   "metadata": {},
   "outputs": [],
   "source": [
    "df.to_csv(\"merchant_status_masked.csv\", index=False)"
   ]
  }
 ],
 "metadata": {
  "kernelspec": {
   "display_name": "base",
   "language": "python",
   "name": "python3"
  },
  "language_info": {
   "codemirror_mode": {
    "name": "ipython",
    "version": 3
   },
   "file_extension": ".py",
   "mimetype": "text/x-python",
   "name": "python",
   "nbconvert_exporter": "python",
   "pygments_lexer": "ipython3",
   "version": "3.12.7"
  }
 },
 "nbformat": 4,
 "nbformat_minor": 5
}

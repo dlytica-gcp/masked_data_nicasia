{
 "cells": [
  {
   "cell_type": "code",
   "execution_count": 4,
   "id": "22b82cc5",
   "metadata": {},
   "outputs": [],
   "source": [
    "import pandas as pd\n",
    "from faker import Faker\n",
    "import random"
   ]
  },
  {
   "cell_type": "code",
   "execution_count": 5,
   "id": "cbd76df3",
   "metadata": {},
   "outputs": [],
   "source": [
    "fake = Faker()"
   ]
  },
  {
   "cell_type": "code",
   "execution_count": 7,
   "id": "caa60253",
   "metadata": {},
   "outputs": [
    {
     "name": "stdout",
     "output_type": "stream",
     "text": [
      "CSV file generated: 'nepali_shops_6000.csv'\n"
     ]
    }
   ],
   "source": [
    "suffixes = [\n",
    "    \"KIRANA PASAL\", \"TEA CORNER\", \"MOBILE REPAIR\", \"STATIONERY\", \"CLOTH STORE\",\n",
    "    \"SWEET HOUSE\", \"MINI MART\", \"ELECTRONICS\", \"RESTAURANT\", \"PANI PASAL\",\n",
    "    \"FANCY STORE\", \"AGRO FARM\", \"PHARMACY\", \"CYCLE WORKSHOP\", \"BEAUTY PARLOR\",\n",
    "    \"HARDWARE CENTER\", \"COLD STORE\", \"ELECTRICALS\", \"PHOTO STUDIO\", \"TRAVELS\",\n",
    "    \"TAILORS\", \"SARI PALACE\", \"COMPUTER CENTER\", \"BOOK DEPOT\", \"COPY HOUSE\",\n",
    "    \"SNACKS CENTER\", \"DAIRY SHOP\", \"FISH MARKET\", \"MEAT SHOP\", \"FLOWER GARDEN\"\n",
    "]\n",
    "\n",
    "# Expanded Nepali cities and areas\n",
    "cities_areas = {\n",
    "    \"KATHMANDU\": [\"ASON\", \"THAMEL\", \"NEW ROAD\", \"PUTALISADAK\", \"BAGBAZAR\", \"KUMARIPATI\"],\n",
    "    \"POKHARA\": [\"LAKESIDE\", \"BAIDAM\", \"MAHENDRAPOOL\", \"PRITHVI CHOWK\", \"HARICHOWK\"],\n",
    "    \"BIRATNAGAR\": [\"NEPALGUNJ ROAD\", \"CHOWK BAZAR\", \"ADARSHNAGAR\", \"TINSULIA\"],\n",
    "    \"LALITPUR\": [\"PULCHOWK\", \"JHAMSIKHEL\", \"KUMARIPATI\", \"SATDOBATO\"],\n",
    "    \"BHAKTAPUR\": [\"DURBAR SQUARE\", \"SADAAKHUTI\", \"THIMI\", \"CHANGUNARAYAN\"],\n",
    "    \"CHITWAN\": [\"NARAYANGHAT\", \"SAURAHA\", \"RATNANAGAR\", \"BHARATPUR\"],\n",
    "    \"DHARAN\": [\"BUSBAR\", \"BHANU CHOWK\", \"TINSULIA\", \"VIDHYUT CHOWK\"],\n",
    "    \"JANAKPUR\": [\"RAMANANDA CHOWK\", \"STATION ROAD\", \"SHIVMANDIR\"],\n",
    "    \"HETAUDA\": [\"MAKAHILI CHOWK\", \"HIGHWAY CHOWK\", \"BANJARIYA\"],\n",
    "    \"BUTWAL\": [\"TINKUNE\", \"GOLPARK\", \"TILOTTAMA\"],\n",
    "    \"NEPALGUNJ\": [\"KOHALPUR\", \"MAHENDRAPUR\", \"BANSGHAT\"],\n",
    "    \"ITAHARI\": [\"HIGHWAY CHOWK\", \"GOLCHHA CINEMA ROAD\", \"SUNSARI\"],\n",
    "    \"DHANKUTA\": [\"BANSGHARI\", \"PAKHRIBAS\", \"AHALE\"],\n",
    "    \"BIRGUNJ\": [\"ADARSHNAGAR\", \"SIMSAR\", \"PRASAUNI\"],\n",
    "    \"TULSIPUR\": [\"MAHENDRANAGAR\", \"GAIRE\", \"TULSI BAGAR\"]\n",
    "}\n",
    "\n",
    "# Generate 6000 entries\n",
    "data = []\n",
    "for _ in range(7904):\n",
    "    city = random.choice(list(cities_areas.keys()))\n",
    "    area = random.choice(cities_areas[city])\n",
    "    name = fake.first_name() + \" \" + random.choice(suffixes)\n",
    "    location = f\"{city}, {area}\"\n",
    "    data.append([name, location])\n",
    "\n",
    "# Create DataFrame & save as CSV\n",
    "df = pd.DataFrame(data, columns=[\"Company_Name\", \"Location\"])\n",
    "df.to_csv(\"nepali_shops_6000.csv\", index=False)\n",
    "\n",
    "print(\"CSV file generated: 'nepali_shops_6000.csv'\")"
   ]
  }
 ],
 "metadata": {
  "kernelspec": {
   "display_name": "base",
   "language": "python",
   "name": "python3"
  },
  "language_info": {
   "codemirror_mode": {
    "name": "ipython",
    "version": 3
   },
   "file_extension": ".py",
   "mimetype": "text/x-python",
   "name": "python",
   "nbconvert_exporter": "python",
   "pygments_lexer": "ipython3",
   "version": "3.12.7"
  }
 },
 "nbformat": 4,
 "nbformat_minor": 5
}
